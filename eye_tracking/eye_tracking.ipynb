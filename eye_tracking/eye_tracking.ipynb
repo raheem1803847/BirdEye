{
 "cells": [
  {
   "cell_type": "code",
   "execution_count": 27,
   "metadata": {},
   "outputs": [],
   "source": [
    "import cv2\n",
    "import numpy as np\n",
    "import dlib\n",
    "from math import hypot"
   ]
  },
  {
   "cell_type": "code",
   "execution_count": 28,
   "metadata": {},
   "outputs": [],
   "source": [
    "cap =cv2.VideoCapture(0)\n",
    "detector=dlib.get_frontal_face_detector()\n",
    "predictor = dlib.shape_predictor(\"shape_predictor_68_face_landmarks.dat\")"
   ]
  },
  {
   "cell_type": "code",
   "execution_count": 29,
   "metadata": {},
   "outputs": [],
   "source": [
    "def midpoint(p1 ,p2):\n",
    "    return int((p1.x + p2.x)/2), int((p1.y + p2.y)/2)\n",
    "font = cv2.FONT_HERSHEY_PLAIN"
   ]
  },
  {
   "cell_type": "code",
   "execution_count": 30,
   "metadata": {},
   "outputs": [],
   "source": [
    "def get_gaze_ratio(eye_points, facial_landmarks):\n",
    "    left_eye_region = np.array([(facial_landmarks.part(eye_points[0]).x, facial_landmarks.part(eye_points[0]).y),\n",
    "                                (facial_landmarks.part(eye_points[1]).x, facial_landmarks.part(eye_points[1]).y),\n",
    "                                (facial_landmarks.part(eye_points[2]).x, facial_landmarks.part(eye_points[2]).y),\n",
    "                                (facial_landmarks.part(eye_points[3]).x, facial_landmarks.part(eye_points[3]).y),\n",
    "                                (facial_landmarks.part(eye_points[4]).x, facial_landmarks.part(eye_points[4]).y),\n",
    "                                (facial_landmarks.part(eye_points[5]).x, facial_landmarks.part(eye_points[5]).y)], np.int32)\n",
    "    # cv2.polylines(frame, [left_eye_region], True, (0, 0, 255), 2)\n",
    "\n",
    "    height, width, _ = frame.shape\n",
    "    mask = np.zeros((height, width), np.uint8)\n",
    "    cv2.polylines(mask, [left_eye_region], True, 255, 2)\n",
    "    cv2.fillPoly(mask, [left_eye_region], 255)\n",
    "    eye = cv2.bitwise_and(gray, gray, mask=mask)\n",
    "\n",
    "    min_x = np.min(left_eye_region[:, 0])\n",
    "    max_x = np.max(left_eye_region[:, 0])\n",
    "    min_y = np.min(left_eye_region[:, 1])\n",
    "    max_y = np.max(left_eye_region[:, 1])\n",
    "\n",
    "    gray_eye = eye[min_y: max_y, min_x: max_x]\n",
    "    _, threshold_eye = cv2.threshold(gray_eye, 70, 255, cv2.THRESH_BINARY)\n",
    "    height, width = threshold_eye.shape\n",
    "    left_side_threshold = threshold_eye[0: height, 0: int(width / 2)]\n",
    "    left_side_white = cv2.countNonZero(left_side_threshold)\n",
    "\n",
    "    right_side_threshold = threshold_eye[0: height, int(width / 2): width]\n",
    "    right_side_white = cv2.countNonZero(right_side_threshold)\n",
    "\n",
    "    if left_side_white == 0:\n",
    "        gaze_ratio = 1\n",
    "    elif right_side_white == 0:\n",
    "        gaze_ratio = 5\n",
    "    else:\n",
    "        gaze_ratio = left_side_white / right_side_white\n",
    "    return gaze_ratio"
   ]
  },
  {
   "cell_type": "code",
   "execution_count": 31,
   "metadata": {},
   "outputs": [],
   "source": [
    "while True:\n",
    "    _, frame = cap.read()\n",
    "    new_frame = np.zeros((500, 500, 3), np.uint8)\n",
    "    gray = cv2.cvtColor(frame, cv2.COLOR_BGR2GRAY)\n",
    "\n",
    "    faces = detector(gray)\n",
    "    for face in faces:\n",
    "        landmarks = predictor(gray, face)\n",
    "        # Gaze detection\n",
    "        gaze_ratio_left_eye = get_gaze_ratio([36, 37, 38, 39, 40, 41], landmarks)\n",
    "        gaze_ratio_right_eye = get_gaze_ratio([42, 43, 44, 45, 46, 47], landmarks)\n",
    "        gaze_ratio = (gaze_ratio_right_eye + gaze_ratio_left_eye) / 2\n",
    "        if gaze_ratio <= 1:\n",
    "            cv2.putText(frame, \"RIGHT\", (50, 100), font, 2, (0, 0, 255), 3)\n",
    "            new_frame[:] = (0, 0, 255)\n",
    "        elif 1 < gaze_ratio < 2:\n",
    "            cv2.putText(frame, \"Left\", (50, 100), font, 2, (0, 0, 255), 3)\n",
    "        else:\n",
    "            new_frame[:] = (255, 0, 0)\n",
    "            cv2.putText(frame, \"CENTER\", (50, 100), font, 2, (0, 0, 255), 3)\n",
    "\n",
    "    cv2.imshow(\"Frame\", frame)\n",
    "    cv2.imshow(\"New frame\", new_frame)\n",
    "\n",
    "    key = cv2.waitKey(1)\n",
    "    if key == 27:\n",
    "        break\n",
    "\n",
    "cap.release()\n",
    "cv2.destroyAllWindows()"
   ]
  }
 ],
 "metadata": {
  "kernelspec": {
   "display_name": "Python 3",
   "language": "python",
   "name": "python3"
  },
  "language_info": {
   "codemirror_mode": {
    "name": "ipython",
    "version": 3
   },
   "file_extension": ".py",
   "mimetype": "text/x-python",
   "name": "python",
   "nbconvert_exporter": "python",
   "pygments_lexer": "ipython3",
   "version": "3.8.5"
  }
 },
 "nbformat": 4,
 "nbformat_minor": 4
}
